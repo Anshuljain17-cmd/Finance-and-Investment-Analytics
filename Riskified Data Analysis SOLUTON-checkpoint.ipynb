{
 "cells": [
  {
   "cell_type": "code",
   "execution_count": 57,
   "id": "01181193",
   "metadata": {},
   "outputs": [],
   "source": [
    "##Importing Numpy and Pandas\n",
    "import numpy as np\n",
    "import pandas as pd"
   ]
  },
  {
   "cell_type": "code",
   "execution_count": 58,
   "id": "e6437555",
   "metadata": {},
   "outputs": [],
   "source": [
    "##Importing visualization libraries\n",
    "import matplotlib.pyplot as plt\n",
    "import seaborn as sns\n",
    "%matplotlib inline"
   ]
  },
  {
   "cell_type": "markdown",
   "id": "c398a0e0",
   "metadata": {},
   "source": [
    "# Riskified Data Analysis Task"
   ]
  },
  {
   "cell_type": "code",
   "execution_count": 59,
   "id": "feb830d4",
   "metadata": {},
   "outputs": [],
   "source": [
    "##Importing data file Pandas DataFrame\n",
    "df=pd.read_excel('Technical Interview Dataset.xlsx')"
   ]
  },
  {
   "cell_type": "code",
   "execution_count": 4,
   "id": "f4cfb884",
   "metadata": {},
   "outputs": [
    {
     "data": {
      "text/html": [
       "<div>\n",
       "<style scoped>\n",
       "    .dataframe tbody tr th:only-of-type {\n",
       "        vertical-align: middle;\n",
       "    }\n",
       "\n",
       "    .dataframe tbody tr th {\n",
       "        vertical-align: top;\n",
       "    }\n",
       "\n",
       "    .dataframe thead th {\n",
       "        text-align: right;\n",
       "    }\n",
       "</style>\n",
       "<table border=\"1\" class=\"dataframe\">\n",
       "  <thead>\n",
       "    <tr style=\"text-align: right;\">\n",
       "      <th></th>\n",
       "      <th>order_id</th>\n",
       "      <th>order_date</th>\n",
       "      <th>order_status</th>\n",
       "      <th>price</th>\n",
       "      <th>digital_product</th>\n",
       "      <th>customer_account_age</th>\n",
       "      <th>order_source</th>\n",
       "      <th>billing_zip</th>\n",
       "      <th>shipping_name_length</th>\n",
       "      <th>classification_score</th>\n",
       "    </tr>\n",
       "  </thead>\n",
       "  <tbody>\n",
       "    <tr>\n",
       "      <th>0</th>\n",
       "      <td>945827823</td>\n",
       "      <td>2019-06-28</td>\n",
       "      <td>approved</td>\n",
       "      <td>16.44</td>\n",
       "      <td>False</td>\n",
       "      <td>759</td>\n",
       "      <td>web</td>\n",
       "      <td>98109</td>\n",
       "      <td>9</td>\n",
       "      <td>1.000000</td>\n",
       "    </tr>\n",
       "    <tr>\n",
       "      <th>1</th>\n",
       "      <td>932303597</td>\n",
       "      <td>2019-06-18</td>\n",
       "      <td>approved</td>\n",
       "      <td>150.00</td>\n",
       "      <td>True</td>\n",
       "      <td>894</td>\n",
       "      <td>web</td>\n",
       "      <td>52761</td>\n",
       "      <td>0</td>\n",
       "      <td>0.999999</td>\n",
       "    </tr>\n",
       "    <tr>\n",
       "      <th>2</th>\n",
       "      <td>916501223</td>\n",
       "      <td>2019-06-07</td>\n",
       "      <td>approved</td>\n",
       "      <td>105.94</td>\n",
       "      <td>False</td>\n",
       "      <td>5160</td>\n",
       "      <td>web</td>\n",
       "      <td>60047</td>\n",
       "      <td>10</td>\n",
       "      <td>0.999999</td>\n",
       "    </tr>\n",
       "    <tr>\n",
       "      <th>3</th>\n",
       "      <td>916516038</td>\n",
       "      <td>2019-06-07</td>\n",
       "      <td>approved</td>\n",
       "      <td>100.00</td>\n",
       "      <td>True</td>\n",
       "      <td>1267</td>\n",
       "      <td>web</td>\n",
       "      <td>46516</td>\n",
       "      <td>0</td>\n",
       "      <td>0.999999</td>\n",
       "    </tr>\n",
       "    <tr>\n",
       "      <th>4</th>\n",
       "      <td>925554558</td>\n",
       "      <td>2019-06-13</td>\n",
       "      <td>approved</td>\n",
       "      <td>225.00</td>\n",
       "      <td>True</td>\n",
       "      <td>889</td>\n",
       "      <td>web</td>\n",
       "      <td>52761</td>\n",
       "      <td>0</td>\n",
       "      <td>0.999999</td>\n",
       "    </tr>\n",
       "  </tbody>\n",
       "</table>\n",
       "</div>"
      ],
      "text/plain": [
       "    order_id order_date order_status   price  digital_product  \\\n",
       "0  945827823 2019-06-28     approved   16.44            False   \n",
       "1  932303597 2019-06-18     approved  150.00             True   \n",
       "2  916501223 2019-06-07     approved  105.94            False   \n",
       "3  916516038 2019-06-07     approved  100.00             True   \n",
       "4  925554558 2019-06-13     approved  225.00             True   \n",
       "\n",
       "   customer_account_age order_source billing_zip  shipping_name_length  \\\n",
       "0                   759          web       98109                     9   \n",
       "1                   894          web       52761                     0   \n",
       "2                  5160          web       60047                    10   \n",
       "3                  1267          web       46516                     0   \n",
       "4                   889          web       52761                     0   \n",
       "\n",
       "   classification_score  \n",
       "0              1.000000  \n",
       "1              0.999999  \n",
       "2              0.999999  \n",
       "3              0.999999  \n",
       "4              0.999999  "
      ]
     },
     "execution_count": 4,
     "metadata": {},
     "output_type": "execute_result"
    }
   ],
   "source": [
    "df.head()"
   ]
  },
  {
   "cell_type": "code",
   "execution_count": 4,
   "id": "6761b6ed",
   "metadata": {},
   "outputs": [
    {
     "name": "stdout",
     "output_type": "stream",
     "text": [
      "<class 'pandas.core.frame.DataFrame'>\n",
      "RangeIndex: 40825 entries, 0 to 40824\n",
      "Data columns (total 10 columns):\n",
      " #   Column                Non-Null Count  Dtype         \n",
      "---  ------                --------------  -----         \n",
      " 0   order_id              40825 non-null  int64         \n",
      " 1   order_date            40825 non-null  datetime64[ns]\n",
      " 2   order_status          40825 non-null  object        \n",
      " 3   price                 40825 non-null  float64       \n",
      " 4   digital_product       40825 non-null  bool          \n",
      " 5   customer_account_age  40825 non-null  int64         \n",
      " 6   order_source          40825 non-null  object        \n",
      " 7   billing_zip           40825 non-null  object        \n",
      " 8   shipping_name_length  40825 non-null  int64         \n",
      " 9   classification_score  40825 non-null  float64       \n",
      "dtypes: bool(1), datetime64[ns](1), float64(2), int64(3), object(3)\n",
      "memory usage: 2.8+ MB\n"
     ]
    }
   ],
   "source": [
    "df.info()"
   ]
  },
  {
   "cell_type": "code",
   "execution_count": 6,
   "id": "476f7843",
   "metadata": {},
   "outputs": [
    {
     "data": {
      "text/plain": [
       "<Axes: xlabel='classification_score', ylabel='Proportion'>"
      ]
     },
     "execution_count": 6,
     "metadata": {},
     "output_type": "execute_result"
    },
    {
     "data": {
      "image/png": "[encoded data removed]",
      "text/plain": [
       "<Figure size 640x480 with 1 Axes>"
      ]
     },
     "metadata": {},
     "output_type": "display_data"
    }
   ],
   "source": [
    "sns.ecdfplot(data=df,x=\"classification_score\")"
   ]
  },
  {
   "cell_type": "code",
   "execution_count": 63,
   "id": "f5b85f25",
   "metadata": {},
   "outputs": [],
   "source": [
    "# Most of the orders are scored higher in Classification_Score column"
   ]
  },
  {
   "cell_type": "markdown",
   "id": "1fc1c846",
   "metadata": {},
   "source": [
    "### Finding threshold classification_score such that 90% of orders would be approved"
   ]
  },
  {
   "cell_type": "code",
   "execution_count": 62,
   "id": "314af86b",
   "metadata": {},
   "outputs": [],
   "source": [
    "percentile_90 = df['classification_score'].quantile(0.1)"
   ]
  },
  {
   "cell_type": "code",
   "execution_count": 75,
   "id": "01c9630f",
   "metadata": {},
   "outputs": [
    {
     "data": {
      "text/plain": [
       "0.8608025151521428"
      ]
     },
     "execution_count": 75,
     "metadata": {},
     "output_type": "execute_result"
    }
   ],
   "source": [
    "# Cut_off Classification_score value for 90% orders to  be approved\n",
    "# Ques- 1\n",
    "percentile_90"
   ]
  },
  {
   "cell_type": "code",
   "execution_count": 65,
   "id": "3f212fe8",
   "metadata": {},
   "outputs": [],
   "source": [
    "#Adding a column to classify 'approved' and 'declined' orders based on Cut_off Classification_score value\n",
    "df['class']=df['classification_score'].apply(lambda x:1 if x>0.86080251 else 0)"
   ]
  },
  {
   "cell_type": "code",
   "execution_count": 18,
   "id": "a91e547a",
   "metadata": {},
   "outputs": [
    {
     "data": {
      "text/html": [
       "<div>\n",
       "<style scoped>\n",
       "    .dataframe tbody tr th:only-of-type {\n",
       "        vertical-align: middle;\n",
       "    }\n",
       "\n",
       "    .dataframe tbody tr th {\n",
       "        vertical-align: top;\n",
       "    }\n",
       "\n",
       "    .dataframe thead th {\n",
       "        text-align: right;\n",
       "    }\n",
       "</style>\n",
       "<table border=\"1\" class=\"dataframe\">\n",
       "  <thead>\n",
       "    <tr style=\"text-align: right;\">\n",
       "      <th></th>\n",
       "      <th>order_id</th>\n",
       "      <th>order_date</th>\n",
       "      <th>order_status</th>\n",
       "      <th>price</th>\n",
       "      <th>digital_product</th>\n",
       "      <th>customer_account_age</th>\n",
       "      <th>order_source</th>\n",
       "      <th>billing_zip</th>\n",
       "      <th>shipping_name_length</th>\n",
       "      <th>classification_score</th>\n",
       "      <th>class</th>\n",
       "    </tr>\n",
       "  </thead>\n",
       "  <tbody>\n",
       "    <tr>\n",
       "      <th>0</th>\n",
       "      <td>945827823</td>\n",
       "      <td>2019-06-28</td>\n",
       "      <td>approved</td>\n",
       "      <td>16.44</td>\n",
       "      <td>False</td>\n",
       "      <td>759</td>\n",
       "      <td>web</td>\n",
       "      <td>98109</td>\n",
       "      <td>9</td>\n",
       "      <td>1.000000</td>\n",
       "      <td>1</td>\n",
       "    </tr>\n",
       "    <tr>\n",
       "      <th>1</th>\n",
       "      <td>932303597</td>\n",
       "      <td>2019-06-18</td>\n",
       "      <td>approved</td>\n",
       "      <td>150.00</td>\n",
       "      <td>True</td>\n",
       "      <td>894</td>\n",
       "      <td>web</td>\n",
       "      <td>52761</td>\n",
       "      <td>0</td>\n",
       "      <td>0.999999</td>\n",
       "      <td>1</td>\n",
       "    </tr>\n",
       "    <tr>\n",
       "      <th>2</th>\n",
       "      <td>916501223</td>\n",
       "      <td>2019-06-07</td>\n",
       "      <td>approved</td>\n",
       "      <td>105.94</td>\n",
       "      <td>False</td>\n",
       "      <td>5160</td>\n",
       "      <td>web</td>\n",
       "      <td>60047</td>\n",
       "      <td>10</td>\n",
       "      <td>0.999999</td>\n",
       "      <td>1</td>\n",
       "    </tr>\n",
       "    <tr>\n",
       "      <th>3</th>\n",
       "      <td>916516038</td>\n",
       "      <td>2019-06-07</td>\n",
       "      <td>approved</td>\n",
       "      <td>100.00</td>\n",
       "      <td>True</td>\n",
       "      <td>1267</td>\n",
       "      <td>web</td>\n",
       "      <td>46516</td>\n",
       "      <td>0</td>\n",
       "      <td>0.999999</td>\n",
       "      <td>1</td>\n",
       "    </tr>\n",
       "    <tr>\n",
       "      <th>4</th>\n",
       "      <td>925554558</td>\n",
       "      <td>2019-06-13</td>\n",
       "      <td>approved</td>\n",
       "      <td>225.00</td>\n",
       "      <td>True</td>\n",
       "      <td>889</td>\n",
       "      <td>web</td>\n",
       "      <td>52761</td>\n",
       "      <td>0</td>\n",
       "      <td>0.999999</td>\n",
       "      <td>1</td>\n",
       "    </tr>\n",
       "  </tbody>\n",
       "</table>\n",
       "</div>"
      ],
      "text/plain": [
       "    order_id order_date order_status   price  digital_product  \\\n",
       "0  945827823 2019-06-28     approved   16.44            False   \n",
       "1  932303597 2019-06-18     approved  150.00             True   \n",
       "2  916501223 2019-06-07     approved  105.94            False   \n",
       "3  916516038 2019-06-07     approved  100.00             True   \n",
       "4  925554558 2019-06-13     approved  225.00             True   \n",
       "\n",
       "   customer_account_age order_source billing_zip  shipping_name_length  \\\n",
       "0                   759          web       98109                     9   \n",
       "1                   894          web       52761                     0   \n",
       "2                  5160          web       60047                    10   \n",
       "3                  1267          web       46516                     0   \n",
       "4                   889          web       52761                     0   \n",
       "\n",
       "   classification_score  class  \n",
       "0              1.000000      1  \n",
       "1              0.999999      1  \n",
       "2              0.999999      1  \n",
       "3              0.999999      1  \n",
       "4              0.999999      1  "
      ]
     },
     "execution_count": 18,
     "metadata": {},
     "output_type": "execute_result"
    }
   ],
   "source": [
    "df.head()"
   ]
  },
  {
   "cell_type": "code",
   "execution_count": 66,
   "id": "618a62e8",
   "metadata": {},
   "outputs": [
    {
     "data": {
      "text/plain": [
       "1    36742\n",
       "0     4083\n",
       "Name: class, dtype: int64"
      ]
     },
     "execution_count": 66,
     "metadata": {},
     "output_type": "execute_result"
    }
   ],
   "source": [
    "# Number of 'approved' and 'declined' orders, 1 being approved and 0 being declined\n",
    "df['class'].value_counts()"
   ]
  },
  {
   "cell_type": "code",
   "execution_count": 25,
   "id": "f650d043",
   "metadata": {},
   "outputs": [
    {
     "data": {
      "text/plain": [
       "<Axes: xlabel='classification_score', ylabel='Density'>"
      ]
     },
     "execution_count": 25,
     "metadata": {},
     "output_type": "execute_result"
    },
    {
     "data": {
      "image/png": "[encoded data removed]",
      "text/plain": [
       "<Figure size 640x480 with 1 Axes>"
      ]
     },
     "metadata": {},
     "output_type": "display_data"
    }
   ],
   "source": [
    "sns.kdeplot(data=df,x=\"classification_score\")"
   ]
  },
  {
   "cell_type": "code",
   "execution_count": 76,
   "id": "c326acd1",
   "metadata": {},
   "outputs": [],
   "source": [
    "# Ques- 2\n",
    "# Most of  the orders are around Classification_score=1"
   ]
  },
  {
   "cell_type": "code",
   "execution_count": 68,
   "id": "554a400b",
   "metadata": {},
   "outputs": [
    {
     "data": {
      "text/html": [
       "<div>\n",
       "<style scoped>\n",
       "    .dataframe tbody tr th:only-of-type {\n",
       "        vertical-align: middle;\n",
       "    }\n",
       "\n",
       "    .dataframe tbody tr th {\n",
       "        vertical-align: top;\n",
       "    }\n",
       "\n",
       "    .dataframe thead th {\n",
       "        text-align: right;\n",
       "    }\n",
       "</style>\n",
       "<table border=\"1\" class=\"dataframe\">\n",
       "  <thead>\n",
       "    <tr style=\"text-align: right;\">\n",
       "      <th></th>\n",
       "      <th>order_id</th>\n",
       "      <th>order_date</th>\n",
       "      <th>order_status</th>\n",
       "      <th>price</th>\n",
       "      <th>digital_product</th>\n",
       "      <th>customer_account_age</th>\n",
       "      <th>order_source</th>\n",
       "      <th>billing_zip</th>\n",
       "      <th>shipping_name_length</th>\n",
       "      <th>classification_score</th>\n",
       "      <th>class</th>\n",
       "    </tr>\n",
       "  </thead>\n",
       "  <tbody>\n",
       "    <tr>\n",
       "      <th>0</th>\n",
       "      <td>945827823</td>\n",
       "      <td>2019-06-28</td>\n",
       "      <td>approved</td>\n",
       "      <td>16.44</td>\n",
       "      <td>False</td>\n",
       "      <td>759</td>\n",
       "      <td>web</td>\n",
       "      <td>98109</td>\n",
       "      <td>9</td>\n",
       "      <td>1.000000</td>\n",
       "      <td>1</td>\n",
       "    </tr>\n",
       "    <tr>\n",
       "      <th>1</th>\n",
       "      <td>932303597</td>\n",
       "      <td>2019-06-18</td>\n",
       "      <td>approved</td>\n",
       "      <td>150.00</td>\n",
       "      <td>True</td>\n",
       "      <td>894</td>\n",
       "      <td>web</td>\n",
       "      <td>52761</td>\n",
       "      <td>0</td>\n",
       "      <td>0.999999</td>\n",
       "      <td>1</td>\n",
       "    </tr>\n",
       "    <tr>\n",
       "      <th>2</th>\n",
       "      <td>916501223</td>\n",
       "      <td>2019-06-07</td>\n",
       "      <td>approved</td>\n",
       "      <td>105.94</td>\n",
       "      <td>False</td>\n",
       "      <td>5160</td>\n",
       "      <td>web</td>\n",
       "      <td>60047</td>\n",
       "      <td>10</td>\n",
       "      <td>0.999999</td>\n",
       "      <td>1</td>\n",
       "    </tr>\n",
       "    <tr>\n",
       "      <th>3</th>\n",
       "      <td>916516038</td>\n",
       "      <td>2019-06-07</td>\n",
       "      <td>approved</td>\n",
       "      <td>100.00</td>\n",
       "      <td>True</td>\n",
       "      <td>1267</td>\n",
       "      <td>web</td>\n",
       "      <td>46516</td>\n",
       "      <td>0</td>\n",
       "      <td>0.999999</td>\n",
       "      <td>1</td>\n",
       "    </tr>\n",
       "    <tr>\n",
       "      <th>4</th>\n",
       "      <td>925554558</td>\n",
       "      <td>2019-06-13</td>\n",
       "      <td>approved</td>\n",
       "      <td>225.00</td>\n",
       "      <td>True</td>\n",
       "      <td>889</td>\n",
       "      <td>web</td>\n",
       "      <td>52761</td>\n",
       "      <td>0</td>\n",
       "      <td>0.999999</td>\n",
       "      <td>1</td>\n",
       "    </tr>\n",
       "  </tbody>\n",
       "</table>\n",
       "</div>"
      ],
      "text/plain": [
       "    order_id order_date order_status   price  digital_product  \\\n",
       "0  945827823 2019-06-28     approved   16.44            False   \n",
       "1  932303597 2019-06-18     approved  150.00             True   \n",
       "2  916501223 2019-06-07     approved  105.94            False   \n",
       "3  916516038 2019-06-07     approved  100.00             True   \n",
       "4  925554558 2019-06-13     approved  225.00             True   \n",
       "\n",
       "   customer_account_age order_source billing_zip  shipping_name_length  \\\n",
       "0                   759          web       98109                     9   \n",
       "1                   894          web       52761                     0   \n",
       "2                  5160          web       60047                    10   \n",
       "3                  1267          web       46516                     0   \n",
       "4                   889          web       52761                     0   \n",
       "\n",
       "   classification_score  class  \n",
       "0              1.000000      1  \n",
       "1              0.999999      1  \n",
       "2              0.999999      1  \n",
       "3              0.999999      1  \n",
       "4              0.999999      1  "
      ]
     },
     "execution_count": 68,
     "metadata": {},
     "output_type": "execute_result"
    }
   ],
   "source": [
    "df.head()"
   ]
  },
  {
   "cell_type": "code",
   "execution_count": 34,
   "id": "cc7f4059",
   "metadata": {},
   "outputs": [
    {
     "data": {
      "text/plain": [
       "approved      40465\n",
       "chargeback      360\n",
       "Name: order_status, dtype: int64"
      ]
     },
     "execution_count": 34,
     "metadata": {},
     "output_type": "execute_result"
    }
   ],
   "source": [
    "df['order_status'].value_counts()"
   ]
  },
  {
   "cell_type": "code",
   "execution_count": 69,
   "id": "d6ef449a",
   "metadata": {},
   "outputs": [
    {
     "data": {
      "text/plain": [
       "15092.940000000002"
      ]
     },
     "execution_count": 69,
     "metadata": {},
     "output_type": "execute_result"
    }
   ],
   "source": [
    "# Finding the total 'chargeback' amount from 90% of the approved orders\n",
    "df[(df['order_status']=='chargeback') & (df['class']==1)]['price'].sum()"
   ]
  },
  {
   "cell_type": "code",
   "execution_count": 70,
   "id": "a1fb7292",
   "metadata": {},
   "outputs": [
    {
     "data": {
      "text/plain": [
       "15411656.269999998"
      ]
     },
     "execution_count": 70,
     "metadata": {},
     "output_type": "execute_result"
    }
   ],
   "source": [
    "# Finding the sum of amount from all the approved orders based on the threshold value calculated above\n",
    "df[df['class']==1]['price'].sum()"
   ]
  },
  {
   "cell_type": "code",
   "execution_count": 71,
   "id": "70b4e698",
   "metadata": {},
   "outputs": [],
   "source": [
    "# Finding the fee (in %) incurred on all the orders\n",
    "x=(df[(df['order_status']=='chargeback') & (df['class']==1)]['price'].sum())*2/(df[df['class']==1]['price'].sum())"
   ]
  },
  {
   "cell_type": "code",
   "execution_count": 72,
   "id": "bac66e61",
   "metadata": {},
   "outputs": [],
   "source": [
    "# Fee in percentage\n",
    "per_x=x*100"
   ]
  },
  {
   "cell_type": "code",
   "execution_count": 73,
   "id": "8960b05e",
   "metadata": {},
   "outputs": [
    {
     "data": {
      "text/plain": [
       "0.19586395823503536"
      ]
     },
     "execution_count": 73,
     "metadata": {},
     "output_type": "execute_result"
    }
   ],
   "source": [
    "# Ques- 3\n",
    "per_x"
   ]
  },
  {
   "cell_type": "markdown",
   "id": "66c99f8c",
   "metadata": {},
   "source": [
    "### Comparing the count of approved and chargeback orders for digital and tangible products"
   ]
  },
  {
   "cell_type": "code",
   "execution_count": 50,
   "id": "221d7723",
   "metadata": {},
   "outputs": [
    {
     "data": {
      "text/plain": [
       "<Axes: xlabel='digital_product', ylabel='count'>"
      ]
     },
     "execution_count": 50,
     "metadata": {},
     "output_type": "execute_result"
    },
    {
     "data": {
      "image/png": "[encoded data removed]",
      "text/plain": [
       "<Figure size 640x480 with 1 Axes>"
      ]
     },
     "metadata": {},
     "output_type": "display_data"
    }
   ],
   "source": [
    "sns.countplot(x='digital_product', hue='order_status', data=df, palette='Set2')"
   ]
  },
  {
   "cell_type": "code",
   "execution_count": 77,
   "id": "77850c6d",
   "metadata": {},
   "outputs": [
    {
     "data": {
      "text/plain": [
       "approved      26967\n",
       "chargeback      320\n",
       "Name: order_status, dtype: int64"
      ]
     },
     "execution_count": 77,
     "metadata": {},
     "output_type": "execute_result"
    }
   ],
   "source": [
    "df[df['digital_product']== True]['order_status'].value_counts()"
   ]
  },
  {
   "cell_type": "code",
   "execution_count": 78,
   "id": "31b89e59",
   "metadata": {},
   "outputs": [
    {
     "data": {
      "text/plain": [
       "approved      13498\n",
       "chargeback       40\n",
       "Name: order_status, dtype: int64"
      ]
     },
     "execution_count": 78,
     "metadata": {},
     "output_type": "execute_result"
    }
   ],
   "source": [
    "df[df['digital_product']== False]['order_status'].value_counts()"
   ]
  },
  {
   "cell_type": "code",
   "execution_count": null,
   "id": "d331c4e5",
   "metadata": {},
   "outputs": [],
   "source": [
    "# The above plot shows the variation in approved and chargeback orders for digital and tangible products.\n",
    "# Ques- 4\n",
    "# Clearly, from the above plot and calculations following the plot, it can be said that the risk factor associated with non \n",
    "# tangible product order is much higher"
   ]
  },
  {
   "cell_type": "code",
   "execution_count": 79,
   "id": "05e4c7e6",
   "metadata": {},
   "outputs": [
    {
     "data": {
      "text/plain": [
       "<Axes: xlabel='order_source', ylabel='count'>"
      ]
     },
     "execution_count": 79,
     "metadata": {},
     "output_type": "execute_result"
    },
    {
     "data": {
      "image/png": "[encoded data removed]",
      "text/plain": [
       "<Figure size 640x480 with 1 Axes>"
      ]
     },
     "metadata": {},
     "output_type": "display_data"
    }
   ],
   "source": [
    "# Ques- 5\n",
    "# Finding the number of  approved and chargeback orders based on order_source\n",
    "sns.countplot(x='order_source', hue='order_status', data=df, palette='Set2')"
   ]
  },
  {
   "cell_type": "code",
   "execution_count": null,
   "id": "b20b329e",
   "metadata": {},
   "outputs": [],
   "source": [
    "# Finding the variations in chargeback orders for different order source"
   ]
  },
  {
   "cell_type": "code",
   "execution_count": 52,
   "id": "7ec180e4",
   "metadata": {},
   "outputs": [
    {
     "data": {
      "text/plain": [
       "approved      663\n",
       "chargeback     11\n",
       "Name: order_status, dtype: int64"
      ]
     },
     "execution_count": 52,
     "metadata": {},
     "output_type": "execute_result"
    }
   ],
   "source": [
    "df[df['order_source']=='mobile_app']['order_status'].value_counts()"
   ]
  },
  {
   "cell_type": "code",
   "execution_count": 53,
   "id": "e673e8a5",
   "metadata": {},
   "outputs": [
    {
     "data": {
      "text/plain": [
       "approved      39802\n",
       "chargeback      349\n",
       "Name: order_status, dtype: int64"
      ]
     },
     "execution_count": 53,
     "metadata": {},
     "output_type": "execute_result"
    }
   ],
   "source": [
    "df[df['order_source']=='web']['order_status'].value_counts()"
   ]
  },
  {
   "cell_type": "code",
   "execution_count": 54,
   "id": "cf9b9905",
   "metadata": {},
   "outputs": [
    {
     "data": {
      "text/plain": [
       "0.016591251885369532"
      ]
     },
     "execution_count": 54,
     "metadata": {},
     "output_type": "execute_result"
    }
   ],
   "source": [
    "11/663"
   ]
  },
  {
   "cell_type": "code",
   "execution_count": 55,
   "id": "a48ff0e1",
   "metadata": {},
   "outputs": [
    {
     "data": {
      "text/plain": [
       "0.008768403597809156"
      ]
     },
     "execution_count": 55,
     "metadata": {},
     "output_type": "execute_result"
    }
   ],
   "source": [
    "349/39802"
   ]
  },
  {
   "cell_type": "code",
   "execution_count": 80,
   "id": "85fef4a7",
   "metadata": {},
   "outputs": [],
   "source": [
    "# From the above analysis, it can be said that mobile app orders are more prone to be charged_back. \n",
    "# Hence the fee for mobile app orders can be levied a bit extra compared to the web orders"
   ]
  },
  {
   "cell_type": "code",
   "execution_count": 56,
   "id": "73aa0249",
   "metadata": {},
   "outputs": [
    {
     "data": {
      "text/plain": [
       "<Axes: xlabel='customer_account_age', ylabel='order_status'>"
      ]
     },
     "execution_count": 56,
     "metadata": {},
     "output_type": "execute_result"
    },
    {
     "data": {
      "image/png": "[encoded data removed]",
      "text/plain": [
       "<Figure size 640x480 with 1 Axes>"
      ]
     },
     "metadata": {},
     "output_type": "display_data"
    }
   ],
   "source": [
    "# Finding the impact of Customer_account_age on charged_back orders\n",
    "sns.scatterplot(data=df, x=\"customer_account_age\", y=\"order_status\")"
   ]
  },
  {
   "cell_type": "markdown",
   "id": "42050811",
   "metadata": {},
   "source": [
    "### At higher values of 'Customer_account_age', the number of charged_back orders are decreasing\n",
    "### Hence, there can be a threshold value selected on 'Customer_account_age' and below that value the fee on orders made can be levied a bit extra"
   ]
  },
  {
   "cell_type": "code",
   "execution_count": 82,
   "id": "e01160b4",
   "metadata": {},
   "outputs": [
    {
     "data": {
      "text/plain": [
       "<Axes: xlabel='price', ylabel='order_status'>"
      ]
     },
     "execution_count": 82,
     "metadata": {},
     "output_type": "execute_result"
    },
    {
     "data": {
      "image/png": "[encoded data removed]",
      "text/plain": [
       "<Figure size 640x480 with 1 Axes>"
      ]
     },
     "metadata": {},
     "output_type": "display_data"
    }
   ],
   "source": [
    "# Finding the impact of order_price on charged_back orders\n",
    "sns.scatterplot(data=df, x=\"price\", y=\"order_status\")"
   ]
  },
  {
   "cell_type": "markdown",
   "id": "bf09413e",
   "metadata": {},
   "source": [
    "### From the above plot, it's clear that all the charged_back orders are within around 1500 order_price."
   ]
  },
  {
   "cell_type": "code",
   "execution_count": null,
   "id": "abf0231e",
   "metadata": {},
   "outputs": [],
   "source": []
  }
 ],
 "metadata": {
  "kernelspec": {
   "display_name": "Python 3 (ipykernel)",
   "language": "python",
   "name": "python3"
  },
  "language_info": {
   "codemirror_mode": {
    "name": "ipython",
    "version": 3
   },
   "file_extension": ".py",
   "mimetype": "text/x-python",
   "name": "python",
   "nbconvert_exporter": "python",
   "pygments_lexer": "ipython3",
   "version": "3.12.7"
  }
 },
 "nbformat": 4,
 "nbformat_minor": 5
}
